{
 "cells": [
  {
   "cell_type": "code",
   "execution_count": 14,
   "id": "4e81d2db",
   "metadata": {},
   "outputs": [],
   "source": [
    "import requests\n",
    "import json"
   ]
  },
  {
   "cell_type": "code",
   "execution_count": 13,
   "id": "4dc0e743",
   "metadata": {},
   "outputs": [
    {
     "data": {
      "text/plain": [
       "<Response [200]>"
      ]
     },
     "execution_count": 13,
     "metadata": {},
     "output_type": "execute_result"
    }
   ],
   "source": [
    "data = {\n",
    "    'name': 'Skoda',\n",
    "    'year': 2016,\n",
    "    'selling_price': 1200000,\n",
    "    'km_driven': 75000,\n",
    "    'fuel': 'Petrol',\n",
    "    'seller_type': 'Individual',\n",
    "    'transmission': 'Automatic',\n",
    "    'owner': 'First Owner',\n",
    "    'mileage': '23.01 kmpl',\n",
    "    'engine': '999 CC',\n",
    "    'max_power': '67 bhp',\n",
    "    'torque': '91Nm@ 4250rpm',\n",
    "    'seats': 5,\n",
    "}\n",
    "\n",
    "requests.post('http://127.0.0.1:8000/predict_item', json = data)"
   ]
  },
  {
   "cell_type": "code",
   "execution_count": 16,
   "id": "bb218e31",
   "metadata": {},
   "outputs": [
    {
     "data": {
      "text/plain": [
       "{'predicted_cost': 572821.5440254211}"
      ]
     },
     "execution_count": 16,
     "metadata": {},
     "output_type": "execute_result"
    }
   ],
   "source": [
    "json.loads(requests.post('http://127.0.0.1:8000/predict_item', json = data).text)"
   ]
  },
  {
   "cell_type": "code",
   "execution_count": 22,
   "id": "ef6530ba",
   "metadata": {},
   "outputs": [],
   "source": [
    "import pandas as pd\n",
    "data = {\n",
    "    'name': 'Skoda',\n",
    "    'year': 2016,\n",
    "    'selling_price': 1200000,\n",
    "    'km_driven': 75000,\n",
    "    'fuel': 'Petrol',\n",
    "    'seller_type': 'Individual',\n",
    "    'transmission': 'Automatic',\n",
    "    'owner': 'First Owner',\n",
    "    'mileage': '23.01 kmpl',\n",
    "    'engine': '999 CC',\n",
    "    'max_power': '67 bhp',\n",
    "    'torque': '91Nm@ 4250rpm',\n",
    "    'seats': 5,\n",
    "}\n",
    "df = pd.DataFrame(data, index=[0])\n",
    "csv_data = df.to_csv(rf'C:\\Users\\nadya\\OneDrive\\Документы\\car_data.csv', index=False)"
   ]
  },
  {
   "cell_type": "code",
   "execution_count": 35,
   "id": "8b5a9eca",
   "metadata": {},
   "outputs": [
    {
     "data": {
      "text/plain": [
       "[{'name': 'Skoda',\n",
       "  'year': 2016,\n",
       "  'selling_price': 1200000,\n",
       "  'km_driven': 75000,\n",
       "  'fuel': 'Petrol',\n",
       "  'seller_type': 'Individual',\n",
       "  'transmission': 'Automatic',\n",
       "  'owner': 'First Owner',\n",
       "  'mileage': '23.01 kmpl',\n",
       "  'engine': '999 CC',\n",
       "  'max_power': '67 bhp',\n",
       "  'torque': '91Nm@ 4250rpm',\n",
       "  'seats': 5}]"
      ]
     },
     "execution_count": 35,
     "metadata": {},
     "output_type": "execute_result"
    }
   ],
   "source": [
    "pd.read_csv(rf'C:\\Users\\nadya\\OneDrive\\Документы\\car_data.csv').to_dict('records')"
   ]
  },
  {
   "cell_type": "code",
   "execution_count": 44,
   "id": "2b8b53b7",
   "metadata": {},
   "outputs": [
    {
     "data": {
      "text/plain": [
       "<Response [200]>"
      ]
     },
     "execution_count": 44,
     "metadata": {},
     "output_type": "execute_result"
    }
   ],
   "source": [
    "response = requests.post(\"http://localhost:8000/predict_items\", json=pd.read_csv(rf'C:\\Users\\nadya\\OneDrive\\Документы\\car_data.csv').to_dict('records'))\n",
    "response"
   ]
  },
  {
   "cell_type": "code",
   "execution_count": 50,
   "id": "d92f8c30",
   "metadata": {},
   "outputs": [
    {
     "data": {
      "text/plain": [
       "'year,km_driven,mileage,engine,max_power,torque,max_torque_rpm,fuel_Diesel,fuel_LPG,fuel_Petrol,seller_type_Individual,seller_type_Trustmark Dealer,transmission_Manual,owner_Fourth & Above Owner,owner_Second Owner,owner_Test Drive Car,owner_Third Owner,seats_4,seats_5,seats_6,seats_7,seats_8,seats_9,seats_10,seats_14,year_squared,torque_log,engine_log,predicted_price\\r\\n2016,75000,23.01,999.0,67.0,91.0,4250.0,0.0,0.0,1.0,1.0,0.0,0.0,0.0,0.0,0.0,0.0,0.0,1.0,0.0,0.0,0.0,0.0,0.0,0.0,4064256,4.51085950651685,6.906754778648554,572821.5440254211\\r\\n'"
      ]
     },
     "execution_count": 50,
     "metadata": {},
     "output_type": "execute_result"
    }
   ],
   "source": [
    "requests.post('http://127.0.0.1:8000/predict_items', json = data).text"
   ]
  },
  {
   "cell_type": "code",
   "execution_count": null,
   "id": "aedb088d",
   "metadata": {},
   "outputs": [],
   "source": []
  }
 ],
 "metadata": {
  "kernelspec": {
   "display_name": "Python 3 (ipykernel)",
   "language": "python",
   "name": "python3"
  },
  "language_info": {
   "codemirror_mode": {
    "name": "ipython",
    "version": 3
   },
   "file_extension": ".py",
   "mimetype": "text/x-python",
   "name": "python",
   "nbconvert_exporter": "python",
   "pygments_lexer": "ipython3",
   "version": "3.9.7"
  }
 },
 "nbformat": 4,
 "nbformat_minor": 5
}
